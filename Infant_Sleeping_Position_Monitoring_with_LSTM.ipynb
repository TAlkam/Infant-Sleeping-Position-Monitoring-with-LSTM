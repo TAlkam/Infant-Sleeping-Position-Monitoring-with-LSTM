{
  "nbformat": 4,
  "nbformat_minor": 0,
  "metadata": {
    "colab": {
      "provenance": [],
      "authorship_tag": "ABX9TyNcuRzsDkl70yjoHaHzxq30",
      "include_colab_link": true
    },
    "kernelspec": {
      "name": "python3",
      "display_name": "Python 3"
    },
    "language_info": {
      "name": "python"
    }
  },
  "cells": [
    {
      "cell_type": "markdown",
      "metadata": {
        "id": "view-in-github",
        "colab_type": "text"
      },
      "source": [
        "<a href=\"https://colab.research.google.com/github/TAlkam/Infant-Sleeping-Position-Monitoring-with-LSTM/blob/main/Infant_Sleeping_Position_Monitoring_with_LSTM.ipynb\" target=\"_parent\"><img src=\"https://colab.research.google.com/assets/colab-badge.svg\" alt=\"Open In Colab\"/></a>"
      ]
    },
    {
      "cell_type": "markdown",
      "source": [
        "**Step 1: Import Necessary Libraries**"
      ],
      "metadata": {
        "id": "BE3lhMjVGiwO"
      }
    },
    {
      "cell_type": "code",
      "execution_count": 2,
      "metadata": {
        "id": "tuY9InSqFeiV"
      },
      "outputs": [],
      "source": [
        "import pandas as pd\n",
        "from sklearn.preprocessing import StandardScaler\n",
        "from sklearn.model_selection import train_test_split\n",
        "from tensorflow.keras.models import Sequential\n",
        "from tensorflow.keras.layers import LSTM, Dense\n",
        "from tensorflow.keras.optimizers import Adam\n",
        "import numpy as np\n",
        "import matplotlib.pyplot as plt\n"
      ]
    },
    {
      "cell_type": "markdown",
      "source": [
        "**2. Upload dataset**"
      ],
      "metadata": {
        "id": "mRYxXtidGsDN"
      }
    },
    {
      "cell_type": "code",
      "execution_count": 1,
      "metadata": {
        "colab": {
          "base_uri": "https://localhost:8080/",
          "height": 56
        },
        "id": "1TCNOsWkerw2",
        "outputId": "1dc75556-96a6-473b-f9cd-1528a4edbcf2"
      },
      "outputs": [
        {
          "output_type": "display_data",
          "data": {
            "text/plain": [
              "<IPython.core.display.HTML object>"
            ],
            "text/html": [
              "\n",
              "     <input type=\"file\" id=\"files-22709482-614e-4dd3-9a0c-5b3b966f5f23\" name=\"files[]\" multiple disabled\n",
              "        style=\"border:none\" />\n",
              "     <output id=\"result-22709482-614e-4dd3-9a0c-5b3b966f5f23\">\n",
              "      Upload widget is only available when the cell has been executed in the\n",
              "      current browser session. Please rerun this cell to enable.\n",
              "      </output>\n",
              "      <script>// Copyright 2017 Google LLC\n",
              "//\n",
              "// Licensed under the Apache License, Version 2.0 (the \"License\");\n",
              "// you may not use this file except in compliance with the License.\n",
              "// You may obtain a copy of the License at\n",
              "//\n",
              "//      http://www.apache.org/licenses/LICENSE-2.0\n",
              "//\n",
              "// Unless required by applicable law or agreed to in writing, software\n",
              "// distributed under the License is distributed on an \"AS IS\" BASIS,\n",
              "// WITHOUT WARRANTIES OR CONDITIONS OF ANY KIND, either express or implied.\n",
              "// See the License for the specific language governing permissions and\n",
              "// limitations under the License.\n",
              "\n",
              "/**\n",
              " * @fileoverview Helpers for google.colab Python module.\n",
              " */\n",
              "(function(scope) {\n",
              "function span(text, styleAttributes = {}) {\n",
              "  const element = document.createElement('span');\n",
              "  element.textContent = text;\n",
              "  for (const key of Object.keys(styleAttributes)) {\n",
              "    element.style[key] = styleAttributes[key];\n",
              "  }\n",
              "  return element;\n",
              "}\n",
              "\n",
              "// Max number of bytes which will be uploaded at a time.\n",
              "const MAX_PAYLOAD_SIZE = 100 * 1024;\n",
              "\n",
              "function _uploadFiles(inputId, outputId) {\n",
              "  const steps = uploadFilesStep(inputId, outputId);\n",
              "  const outputElement = document.getElementById(outputId);\n",
              "  // Cache steps on the outputElement to make it available for the next call\n",
              "  // to uploadFilesContinue from Python.\n",
              "  outputElement.steps = steps;\n",
              "\n",
              "  return _uploadFilesContinue(outputId);\n",
              "}\n",
              "\n",
              "// This is roughly an async generator (not supported in the browser yet),\n",
              "// where there are multiple asynchronous steps and the Python side is going\n",
              "// to poll for completion of each step.\n",
              "// This uses a Promise to block the python side on completion of each step,\n",
              "// then passes the result of the previous step as the input to the next step.\n",
              "function _uploadFilesContinue(outputId) {\n",
              "  const outputElement = document.getElementById(outputId);\n",
              "  const steps = outputElement.steps;\n",
              "\n",
              "  const next = steps.next(outputElement.lastPromiseValue);\n",
              "  return Promise.resolve(next.value.promise).then((value) => {\n",
              "    // Cache the last promise value to make it available to the next\n",
              "    // step of the generator.\n",
              "    outputElement.lastPromiseValue = value;\n",
              "    return next.value.response;\n",
              "  });\n",
              "}\n",
              "\n",
              "/**\n",
              " * Generator function which is called between each async step of the upload\n",
              " * process.\n",
              " * @param {string} inputId Element ID of the input file picker element.\n",
              " * @param {string} outputId Element ID of the output display.\n",
              " * @return {!Iterable<!Object>} Iterable of next steps.\n",
              " */\n",
              "function* uploadFilesStep(inputId, outputId) {\n",
              "  const inputElement = document.getElementById(inputId);\n",
              "  inputElement.disabled = false;\n",
              "\n",
              "  const outputElement = document.getElementById(outputId);\n",
              "  outputElement.innerHTML = '';\n",
              "\n",
              "  const pickedPromise = new Promise((resolve) => {\n",
              "    inputElement.addEventListener('change', (e) => {\n",
              "      resolve(e.target.files);\n",
              "    });\n",
              "  });\n",
              "\n",
              "  const cancel = document.createElement('button');\n",
              "  inputElement.parentElement.appendChild(cancel);\n",
              "  cancel.textContent = 'Cancel upload';\n",
              "  const cancelPromise = new Promise((resolve) => {\n",
              "    cancel.onclick = () => {\n",
              "      resolve(null);\n",
              "    };\n",
              "  });\n",
              "\n",
              "  // Wait for the user to pick the files.\n",
              "  const files = yield {\n",
              "    promise: Promise.race([pickedPromise, cancelPromise]),\n",
              "    response: {\n",
              "      action: 'starting',\n",
              "    }\n",
              "  };\n",
              "\n",
              "  cancel.remove();\n",
              "\n",
              "  // Disable the input element since further picks are not allowed.\n",
              "  inputElement.disabled = true;\n",
              "\n",
              "  if (!files) {\n",
              "    return {\n",
              "      response: {\n",
              "        action: 'complete',\n",
              "      }\n",
              "    };\n",
              "  }\n",
              "\n",
              "  for (const file of files) {\n",
              "    const li = document.createElement('li');\n",
              "    li.append(span(file.name, {fontWeight: 'bold'}));\n",
              "    li.append(span(\n",
              "        `(${file.type || 'n/a'}) - ${file.size} bytes, ` +\n",
              "        `last modified: ${\n",
              "            file.lastModifiedDate ? file.lastModifiedDate.toLocaleDateString() :\n",
              "                                    'n/a'} - `));\n",
              "    const percent = span('0% done');\n",
              "    li.appendChild(percent);\n",
              "\n",
              "    outputElement.appendChild(li);\n",
              "\n",
              "    const fileDataPromise = new Promise((resolve) => {\n",
              "      const reader = new FileReader();\n",
              "      reader.onload = (e) => {\n",
              "        resolve(e.target.result);\n",
              "      };\n",
              "      reader.readAsArrayBuffer(file);\n",
              "    });\n",
              "    // Wait for the data to be ready.\n",
              "    let fileData = yield {\n",
              "      promise: fileDataPromise,\n",
              "      response: {\n",
              "        action: 'continue',\n",
              "      }\n",
              "    };\n",
              "\n",
              "    // Use a chunked sending to avoid message size limits. See b/62115660.\n",
              "    let position = 0;\n",
              "    do {\n",
              "      const length = Math.min(fileData.byteLength - position, MAX_PAYLOAD_SIZE);\n",
              "      const chunk = new Uint8Array(fileData, position, length);\n",
              "      position += length;\n",
              "\n",
              "      const base64 = btoa(String.fromCharCode.apply(null, chunk));\n",
              "      yield {\n",
              "        response: {\n",
              "          action: 'append',\n",
              "          file: file.name,\n",
              "          data: base64,\n",
              "        },\n",
              "      };\n",
              "\n",
              "      let percentDone = fileData.byteLength === 0 ?\n",
              "          100 :\n",
              "          Math.round((position / fileData.byteLength) * 100);\n",
              "      percent.textContent = `${percentDone}% done`;\n",
              "\n",
              "    } while (position < fileData.byteLength);\n",
              "  }\n",
              "\n",
              "  // All done.\n",
              "  yield {\n",
              "    response: {\n",
              "      action: 'complete',\n",
              "    }\n",
              "  };\n",
              "}\n",
              "\n",
              "scope.google = scope.google || {};\n",
              "scope.google.colab = scope.google.colab || {};\n",
              "scope.google.colab._files = {\n",
              "  _uploadFiles,\n",
              "  _uploadFilesContinue,\n",
              "};\n",
              "})(self);\n",
              "</script> "
            ]
          },
          "metadata": {}
        },
        {
          "output_type": "stream",
          "name": "stdout",
          "text": [
            "Saving GD for  IoT device infant safe prediction.csv to GD for  IoT device infant safe prediction.csv\n"
          ]
        }
      ],
      "source": [
        "from google.colab import files\n",
        "uploaded = files.upload()\n"
      ]
    },
    {
      "cell_type": "markdown",
      "source": [
        "**Step 2: Load and Prepare the Dataset**"
      ],
      "metadata": {
        "id": "L5Qw6-xFGlTi"
      }
    },
    {
      "cell_type": "code",
      "source": [
        "data = pd.read_csv('GD for  IoT device infant safe prediction.csv')\n",
        "df = pd.read_csv('GD for  IoT device infant safe prediction.csv')"
      ],
      "metadata": {
        "id": "v8e7Iq-dG5ak"
      },
      "execution_count": 4,
      "outputs": []
    },
    {
      "cell_type": "code",
      "source": [
        "print(df.columns)"
      ],
      "metadata": {
        "colab": {
          "base_uri": "https://localhost:8080/"
        },
        "id": "wxYXEsSNCmD4",
        "outputId": "96556b1b-e84c-40c2-dd21-fe53f9469ded"
      },
      "execution_count": 5,
      "outputs": [
        {
          "output_type": "stream",
          "name": "stdout",
          "text": [
            "Index(['minutes from the start of recording', 'DeviceDatetTime',\n",
            "       'leg raised time (seconds)',\n",
            "       'leg movement (no Movement=0, yes movement=1)',\n",
            "       'tag1_visibility (visible=1, unvisible=0)',\n",
            "       'tag2_visibility (visible=5, unvisible=1)',\n",
            "       'Leg + tag1+tag2 (unsafe=5,  safe=1, safe=2, safe=3, safe=6)',\n",
            "       'Safety (safe =1, unsafe=5)', 'safety'],\n",
            "      dtype='object')\n"
          ]
        }
      ]
    },
    {
      "cell_type": "code",
      "source": [
        "# Correcting the column name based on our DataFrame\n",
        "df['DeviceDatetTime'] = pd.to_datetime(df['DeviceDatetTime'])\n",
        "\n",
        "# Extract features\n",
        "df['Hour'] = df['DeviceDatetTime'].dt.hour\n",
        "df['DayOfWeek'] = df['DeviceDatetTime'].dt.dayofweek\n",
        "df['Month'] = df['DeviceDatetTime'].dt.month\n",
        "\n",
        "# Now, drop the original 'DeviceDatetTime' column as its information has been encoded into new features\n",
        "df = df.drop('DeviceDatetTime', axis=1)\n"
      ],
      "metadata": {
        "id": "xw6bD_zyDzUt"
      },
      "execution_count": 9,
      "outputs": []
    },
    {
      "cell_type": "code",
      "source": [
        "# Correcting the column name for dropping and setting the target variable\n",
        "X = df.drop(['Safety (safe =1, unsafe=5)', 'safety'], axis=1)  # Drop the target & redundant columns\n",
        "y = df['Safety (safe =1, unsafe=5)']  # Target variable, using the correct column name\n"
      ],
      "metadata": {
        "id": "FG_NVCk9CwSe"
      },
      "execution_count": 7,
      "outputs": []
    },
    {
      "cell_type": "markdown",
      "source": [
        "**Step 3: Data Preprocessing**"
      ],
      "metadata": {
        "id": "OkNTk3AIH72M"
      }
    },
    {
      "cell_type": "code",
      "source": [
        "# Splitting the dataset into the Training set and Test set\n",
        "X_train, X_test, y_train, y_test = train_test_split(X, y, test_size=0.2, random_state=42)\n",
        "\n",
        "# Output the shape of the splits to confirm the sizes\n",
        "print(f\"Training set size: {X_train.shape}, {y_train.shape}\")\n",
        "print(f\"Testing set size: {X_test.shape}, {y_test.shape}\")\n"
      ],
      "metadata": {
        "colab": {
          "base_uri": "https://localhost:8080/"
        },
        "id": "0pfJOwp7C-YF",
        "outputId": "b87dc118-b676-4723-b70b-32a9c5dd3b2f"
      },
      "execution_count": 8,
      "outputs": [
        {
          "output_type": "stream",
          "name": "stdout",
          "text": [
            "Training set size: (3560, 7), (3560,)\n",
            "Testing set size: (891, 7), (891,)\n"
          ]
        }
      ]
    },
    {
      "cell_type": "code",
      "source": [
        "# Checking the data types of all columns to identify non-numeric columns\n",
        "print(X_train.dtypes)"
      ],
      "metadata": {
        "colab": {
          "base_uri": "https://localhost:8080/"
        },
        "id": "-Ds0G76RENto",
        "outputId": "3deeb591-6421-489c-ca14-1ee3c4fa25b2"
      },
      "execution_count": 10,
      "outputs": [
        {
          "output_type": "stream",
          "name": "stdout",
          "text": [
            "minutes from the start of recording                              int64\n",
            "DeviceDatetTime                                                 object\n",
            "leg raised time (seconds)                                      float64\n",
            "leg movement (no Movement=0, yes movement=1)                     int64\n",
            "tag1_visibility (visible=1, unvisible=0)                         int64\n",
            "tag2_visibility (visible=5, unvisible=1)                         int64\n",
            "Leg + tag1+tag2 (unsafe=5,  safe=1, safe=2, safe=3, safe=6)      int64\n",
            "dtype: object\n"
          ]
        }
      ]
    },
    {
      "cell_type": "code",
      "source": [
        "X_train = X_train.drop('DeviceDatetTime', axis=1)\n",
        "X_test = X_test.drop('DeviceDatetTime', axis=1)"
      ],
      "metadata": {
        "id": "loaNRGdrEaN2"
      },
      "execution_count": 11,
      "outputs": []
    },
    {
      "cell_type": "code",
      "source": [
        "def define_safety(row):\n",
        "    if row['tag1_visibility (visible=1, unvisible=0)'] == 1 and row['tag2_visibility (visible=5, unvisible=1)'] == 1 and row['leg movement (no Movement=0, yes movement=1)'] == 1:\n",
        "        return 1  # Safe\n",
        "    elif row['tag1_visibility (visible=1, unvisible=0)'] == 0 and row['tag2_visibility (visible=5, unvisible=1)'] == 5 and row['leg movement (no Movement=0, yes movement=1)'] == 0:\n",
        "        return 0  # Unsafe\n",
        "    else:\n",
        "        return np.nan  # for other conditions, you might choose to treat them as safe, unsafe, or exclude them\n",
        "\n",
        "# Apply the function to create a new 'safety' column\n",
        "data['safety'] = data.apply(define_safety, axis=1)\n",
        "\n",
        "# Optional: Remove rows where safety is undefined (np.nan), or handle them as you see fit\n",
        "data.dropna(subset=['safety'], inplace=True)\n"
      ],
      "metadata": {
        "id": "34jhFcGV4CpT"
      },
      "execution_count": 12,
      "outputs": []
    },
    {
      "cell_type": "code",
      "source": [
        "# Selecting features and the target\n",
        "features = data[['leg raised time (seconds)', 'leg movement (no Movement=0, yes movement=1)', 'tag1_visibility (visible=1, unvisible=0)', 'tag2_visibility (visible=5, unvisible=1)']].values\n",
        "target = data['safety'].values\n",
        "\n",
        "# Scaling the features\n",
        "scaler = StandardScaler()\n",
        "features_scaled = scaler.fit_transform(features)\n",
        "\n",
        "# Split the dataset into training and testing sets\n",
        "X_train, X_test, y_train, y_test = train_test_split(features_scaled, target, test_size=0.2, random_state=42)\n",
        "\n",
        "# Reshape input data for LSTM, if using an LSTM model\n",
        "X_train = X_train.reshape((X_train.shape[0], 1, X_train.shape[1]))\n",
        "X_test = X_test.reshape((X_test.shape[0], 1, X_test.shape[1]))\n"
      ],
      "metadata": {
        "id": "XmamoEep4MwF"
      },
      "execution_count": 13,
      "outputs": []
    },
    {
      "cell_type": "markdown",
      "source": [
        "**Step 4: Model Definition**"
      ],
      "metadata": {
        "id": "XyrFAFc7cmUR"
      }
    },
    {
      "cell_type": "code",
      "source": [
        "# Define the LSTM model\n",
        "model = Sequential([\n",
        "    LSTM(units=50, input_shape=(X_train.shape[1], X_train.shape[2])),\n",
        "    Dense(units=1, activation='sigmoid')\n",
        "])\n",
        "\n",
        "# Compile the model\n",
        "model.compile(optimizer='adam', loss='binary_crossentropy', metrics=['accuracy'])\n"
      ],
      "metadata": {
        "id": "FVfvvk8h4MmX"
      },
      "execution_count": 14,
      "outputs": []
    },
    {
      "cell_type": "markdown",
      "source": [
        "**Step 5: Model Training**"
      ],
      "metadata": {
        "id": "RYe7nHK3cy8s"
      }
    },
    {
      "cell_type": "code",
      "source": [
        "history = model.fit(\n",
        "    X_train, y_train,\n",
        "    epochs=20,\n",
        "    batch_size=64,\n",
        "    validation_split=0.2,\n",
        "    verbose=2\n",
        ")\n"
      ],
      "metadata": {
        "colab": {
          "base_uri": "https://localhost:8080/"
        },
        "id": "MndQEeQZ40e2",
        "outputId": "9a0de7c7-d491-4e08-e1b6-568a4072a924"
      },
      "execution_count": 15,
      "outputs": [
        {
          "output_type": "stream",
          "name": "stdout",
          "text": [
            "Epoch 1/20\n",
            "42/42 - 4s - loss: 0.5625 - accuracy: 0.9996 - val_loss: 0.4535 - val_accuracy: 1.0000 - 4s/epoch - 96ms/step\n",
            "Epoch 2/20\n",
            "42/42 - 0s - loss: 0.3621 - accuracy: 1.0000 - val_loss: 0.2731 - val_accuracy: 1.0000 - 233ms/epoch - 6ms/step\n",
            "Epoch 3/20\n",
            "42/42 - 0s - loss: 0.2104 - accuracy: 1.0000 - val_loss: 0.1533 - val_accuracy: 1.0000 - 258ms/epoch - 6ms/step\n",
            "Epoch 4/20\n",
            "42/42 - 0s - loss: 0.1182 - accuracy: 1.0000 - val_loss: 0.0876 - val_accuracy: 1.0000 - 237ms/epoch - 6ms/step\n",
            "Epoch 5/20\n",
            "42/42 - 0s - loss: 0.0697 - accuracy: 1.0000 - val_loss: 0.0541 - val_accuracy: 1.0000 - 226ms/epoch - 5ms/step\n",
            "Epoch 6/20\n",
            "42/42 - 0s - loss: 0.0446 - accuracy: 1.0000 - val_loss: 0.0361 - val_accuracy: 1.0000 - 233ms/epoch - 6ms/step\n",
            "Epoch 7/20\n",
            "42/42 - 0s - loss: 0.0306 - accuracy: 1.0000 - val_loss: 0.0256 - val_accuracy: 1.0000 - 258ms/epoch - 6ms/step\n",
            "Epoch 8/20\n",
            "42/42 - 0s - loss: 0.0223 - accuracy: 1.0000 - val_loss: 0.0191 - val_accuracy: 1.0000 - 229ms/epoch - 5ms/step\n",
            "Epoch 9/20\n",
            "42/42 - 0s - loss: 0.0169 - accuracy: 1.0000 - val_loss: 0.0148 - val_accuracy: 1.0000 - 231ms/epoch - 6ms/step\n",
            "Epoch 10/20\n",
            "42/42 - 0s - loss: 0.0132 - accuracy: 1.0000 - val_loss: 0.0118 - val_accuracy: 1.0000 - 251ms/epoch - 6ms/step\n",
            "Epoch 11/20\n",
            "42/42 - 0s - loss: 0.0107 - accuracy: 1.0000 - val_loss: 0.0096 - val_accuracy: 1.0000 - 212ms/epoch - 5ms/step\n",
            "Epoch 12/20\n",
            "42/42 - 0s - loss: 0.0088 - accuracy: 1.0000 - val_loss: 0.0080 - val_accuracy: 1.0000 - 251ms/epoch - 6ms/step\n",
            "Epoch 13/20\n",
            "42/42 - 0s - loss: 0.0074 - accuracy: 1.0000 - val_loss: 0.0067 - val_accuracy: 1.0000 - 223ms/epoch - 5ms/step\n",
            "Epoch 14/20\n",
            "42/42 - 0s - loss: 0.0062 - accuracy: 1.0000 - val_loss: 0.0058 - val_accuracy: 1.0000 - 228ms/epoch - 5ms/step\n",
            "Epoch 15/20\n",
            "42/42 - 0s - loss: 0.0054 - accuracy: 1.0000 - val_loss: 0.0050 - val_accuracy: 1.0000 - 212ms/epoch - 5ms/step\n",
            "Epoch 16/20\n",
            "42/42 - 0s - loss: 0.0047 - accuracy: 1.0000 - val_loss: 0.0044 - val_accuracy: 1.0000 - 252ms/epoch - 6ms/step\n",
            "Epoch 17/20\n",
            "42/42 - 0s - loss: 0.0041 - accuracy: 1.0000 - val_loss: 0.0038 - val_accuracy: 1.0000 - 270ms/epoch - 6ms/step\n",
            "Epoch 18/20\n",
            "42/42 - 0s - loss: 0.0036 - accuracy: 1.0000 - val_loss: 0.0034 - val_accuracy: 1.0000 - 238ms/epoch - 6ms/step\n",
            "Epoch 19/20\n",
            "42/42 - 0s - loss: 0.0032 - accuracy: 1.0000 - val_loss: 0.0030 - val_accuracy: 1.0000 - 205ms/epoch - 5ms/step\n",
            "Epoch 20/20\n",
            "42/42 - 0s - loss: 0.0029 - accuracy: 1.0000 - val_loss: 0.0027 - val_accuracy: 1.0000 - 256ms/epoch - 6ms/step\n"
          ]
        }
      ]
    },
    {
      "cell_type": "markdown",
      "source": [
        "**Step 6: Model Evaluation**"
      ],
      "metadata": {
        "id": "7X_1Ic8Mc6fR"
      }
    },
    {
      "cell_type": "code",
      "source": [
        "# Evaluate the model on the test set\n",
        "test_loss, test_accuracy = model.evaluate(X_test, y_test, verbose=2)\n",
        "print(f\"Test Accuracy: {test_accuracy:.4f}\")\n"
      ],
      "metadata": {
        "colab": {
          "base_uri": "https://localhost:8080/"
        },
        "id": "35ad9rc-46OQ",
        "outputId": "da96fc16-898b-4a0b-e238-ed1a93a3cdf1"
      },
      "execution_count": 16,
      "outputs": [
        {
          "output_type": "stream",
          "name": "stdout",
          "text": [
            "27/27 - 0s - loss: 0.0027 - accuracy: 1.0000 - 91ms/epoch - 3ms/step\n",
            "Test Accuracy: 1.0000\n"
          ]
        }
      ]
    },
    {
      "cell_type": "markdown",
      "source": [
        "**Step 7: Make Predictions**"
      ],
      "metadata": {
        "id": "mVb9EiCOdGNv"
      }
    },
    {
      "cell_type": "code",
      "source": [
        "predictions = model.predict(X_test)\n",
        "predictions_binary = (predictions > 0.5).astype(int)\n"
      ],
      "metadata": {
        "colab": {
          "base_uri": "https://localhost:8080/"
        },
        "id": "JZnXjFhudnNV",
        "outputId": "70dbdb1b-d481-41c5-968d-7949e7f8acdb"
      },
      "execution_count": 19,
      "outputs": [
        {
          "output_type": "stream",
          "name": "stdout",
          "text": [
            "27/27 [==============================] - 1s 3ms/step\n"
          ]
        }
      ]
    },
    {
      "cell_type": "markdown",
      "source": [
        "**Step 8: Evaluate Predictions**"
      ],
      "metadata": {
        "id": "QgAsWeesecvt"
      }
    },
    {
      "cell_type": "code",
      "source": [
        "from sklearn.metrics import accuracy_score, precision_score, recall_score, f1_score\n"
      ],
      "metadata": {
        "id": "70ihoigeejsg"
      },
      "execution_count": 21,
      "outputs": []
    },
    {
      "cell_type": "code",
      "source": [
        "# Assuming `predictions` are your model's predictions, and `y_test` are the actual labels.\n",
        "# Convert predictions to binary (0 or 1) if they're in a probabilistic form (e.g., output of a sigmoid function).\n",
        "predictions_binary = (predictions > 0.5).astype(int)\n",
        "\n",
        "# Calculate metrics\n",
        "accuracy = accuracy_score(y_test, predictions_binary)\n",
        "precision = precision_score(y_test, predictions_binary)\n",
        "recall = recall_score(y_test, predictions_binary)\n",
        "f1 = f1_score(y_test, predictions_binary)\n",
        "\n",
        "# Print the evaluation metrics\n",
        "print(f\"Accuracy: {accuracy:.4f}\")\n",
        "print(f\"Precision: {precision:.4f}\")\n",
        "print(f\"Recall: {recall:.4f}\")\n",
        "print(f\"F1 Score: {f1:.4f}\")\n"
      ],
      "metadata": {
        "colab": {
          "base_uri": "https://localhost:8080/"
        },
        "id": "i-QdkPcXesjz",
        "outputId": "00d0cfbe-b42f-482e-b2f2-faeef67853f3"
      },
      "execution_count": 22,
      "outputs": [
        {
          "output_type": "stream",
          "name": "stdout",
          "text": [
            "Accuracy: 1.0000\n",
            "Precision: 1.0000\n",
            "Recall: 1.0000\n",
            "F1 Score: 1.0000\n"
          ]
        }
      ]
    },
    {
      "cell_type": "markdown",
      "source": [
        "**Step 9: Save and Export Predictions**"
      ],
      "metadata": {
        "id": "SFdsiBGqeEEH"
      }
    },
    {
      "cell_type": "code",
      "source": [
        "# Ensure both arrays are 1-dimensional\n",
        "y_test_1d = y_test.flatten()  # This is typically already 1D, but using flatten() as a precaution\n",
        "predictions_binary_1d = predictions_binary.flatten()  # Flatten the predictions to 1D\n",
        "\n",
        "# Now create the DataFrame\n",
        "results_df = pd.DataFrame({'Actual': y_test_1d, 'Predicted': predictions_binary_1d})\n",
        "\n",
        "# Save to CSV\n",
        "results_df.to_csv('Infant Sleeping Position Monitoring with LSTM_predictions.csv', index=False)\n",
        "\n",
        "from google.colab import files\n",
        "files.download('Infant Sleeping Position Monitoring with LSTM_predictions.csv')\n"
      ],
      "metadata": {
        "colab": {
          "base_uri": "https://localhost:8080/",
          "height": 17
        },
        "id": "8DBcwf2We9Ku",
        "outputId": "652ec886-c255-4740-e4ca-361d3787ff36"
      },
      "execution_count": 25,
      "outputs": [
        {
          "output_type": "display_data",
          "data": {
            "text/plain": [
              "<IPython.core.display.Javascript object>"
            ],
            "application/javascript": [
              "\n",
              "    async function download(id, filename, size) {\n",
              "      if (!google.colab.kernel.accessAllowed) {\n",
              "        return;\n",
              "      }\n",
              "      const div = document.createElement('div');\n",
              "      const label = document.createElement('label');\n",
              "      label.textContent = `Downloading \"${filename}\": `;\n",
              "      div.appendChild(label);\n",
              "      const progress = document.createElement('progress');\n",
              "      progress.max = size;\n",
              "      div.appendChild(progress);\n",
              "      document.body.appendChild(div);\n",
              "\n",
              "      const buffers = [];\n",
              "      let downloaded = 0;\n",
              "\n",
              "      const channel = await google.colab.kernel.comms.open(id);\n",
              "      // Send a message to notify the kernel that we're ready.\n",
              "      channel.send({})\n",
              "\n",
              "      for await (const message of channel.messages) {\n",
              "        // Send a message to notify the kernel that we're ready.\n",
              "        channel.send({})\n",
              "        if (message.buffers) {\n",
              "          for (const buffer of message.buffers) {\n",
              "            buffers.push(buffer);\n",
              "            downloaded += buffer.byteLength;\n",
              "            progress.value = downloaded;\n",
              "          }\n",
              "        }\n",
              "      }\n",
              "      const blob = new Blob(buffers, {type: 'application/binary'});\n",
              "      const a = document.createElement('a');\n",
              "      a.href = window.URL.createObjectURL(blob);\n",
              "      a.download = filename;\n",
              "      div.appendChild(a);\n",
              "      a.click();\n",
              "      div.remove();\n",
              "    }\n",
              "  "
            ]
          },
          "metadata": {}
        },
        {
          "output_type": "display_data",
          "data": {
            "text/plain": [
              "<IPython.core.display.Javascript object>"
            ],
            "application/javascript": [
              "download(\"download_bdabe596-abec-4faa-b3c1-bca84975f22c\", \"Infant Sleeping Position Monitoring with LSTM_predictions.csv\", 5051)"
            ]
          },
          "metadata": {}
        }
      ]
    },
    {
      "cell_type": "markdown",
      "source": [
        "**Step 10: K-Fold Cross-Validation**"
      ],
      "metadata": {
        "id": "4wRn1pOVfao7"
      }
    },
    {
      "cell_type": "code",
      "source": [
        "# K-Fold Cross-Validation\n",
        "from sklearn.model_selection import KFold\n",
        "from tensorflow.keras.models import Sequential\n",
        "from tensorflow.keras.layers import LSTM, Dense\n",
        "from tensorflow.keras.optimizers import Adam\n",
        "import numpy as np\n",
        "\n",
        "# Reshape features for LSTM\n",
        "features_reshaped = features_scaled.reshape((features_scaled.shape[0], 1, features_scaled.shape[1]))\n",
        "\n",
        "# Define K-Fold cross-validator\n",
        "kf = KFold(n_splits=5, shuffle=True, random_state=42)\n",
        "\n",
        "# Prepare to collect scores\n",
        "scores = []\n",
        "\n",
        "for train_index, test_index in kf.split(features_reshaped):\n",
        "    # Split data into training and testing sets\n",
        "    X_train, X_test = features_reshaped[train_index], features_reshaped[test_index]\n",
        "    y_train, y_test = target[train_index], target[test_index]\n",
        "\n",
        "    # Define the LSTM model within the loop to reset it each iteration\n",
        "    model = Sequential([\n",
        "        LSTM(units=50, input_shape=(X_train.shape[1], X_train.shape[2])),\n",
        "        Dense(units=1, activation='sigmoid')\n",
        "    ])\n",
        "\n",
        "    # Compile the model\n",
        "    model.compile(optimizer='adam', loss='binary_crossentropy', metrics=['accuracy'])\n",
        "\n",
        "    # Train the model\n",
        "    model.fit(X_train, y_train, epochs=10, batch_size=64, verbose=0)  # Set verbose to 0 to reduce log messages\n",
        "\n",
        "    # Evaluate the model\n",
        "    _, accuracy = model.evaluate(X_test, y_test, verbose=0)\n",
        "    scores.append(accuracy)\n",
        "\n",
        "# Calculate the average score across all folds\n",
        "average_score = np.mean(scores)\n",
        "print(f\"Average Accuracy: {average_score:.4f}\")\n"
      ],
      "metadata": {
        "colab": {
          "base_uri": "https://localhost:8080/"
        },
        "id": "hBFJ3hSq5ZdB",
        "outputId": "e024b0ab-c124-4bd1-9aaa-8f605b4d7ff0"
      },
      "execution_count": 17,
      "outputs": [
        {
          "output_type": "stream",
          "name": "stdout",
          "text": [
            "Average Accuracy: 1.0000\n"
          ]
        }
      ]
    }
  ]
}